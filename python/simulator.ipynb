{
 "cells": [
  {
   "cell_type": "code",
   "execution_count": 1,
   "id": "03094c08-8dd0-460d-af35-4865b599f088",
   "metadata": {},
   "outputs": [],
   "source": [
    "from shapely.geometry import Point, Polygon\n",
    "import numpy as np\n",
    "import shapely.affinity as af\n",
    "import matplotlib.pyplot as plt\n",
    "from IPython.display import Video"
   ]
  },
  {
   "cell_type": "code",
   "execution_count": 2,
   "id": "803aefc1-81de-4bad-aee7-5fe4dce2892b",
   "metadata": {},
   "outputs": [],
   "source": [
    "shape = Polygon([[0, 0], [6, 0], [0, 3], [0, 0]]) # triangle"
   ]
  },
  {
   "cell_type": "code",
   "execution_count": 3,
   "id": "e6c8a65a-511d-4da5-80b0-9092559c2902",
   "metadata": {},
   "outputs": [],
   "source": [
    "def get_circle(center=(0,0), radius=1, num_points=20):\n",
    "    theta = np.linspace(0, 2*np.pi, num_points)\n",
    "    points = radius * np.array([np.sin(theta),np.cos(theta)]).T\n",
    "    return Polygon(points)"
   ]
  },
  {
   "cell_type": "code",
   "execution_count": 4,
   "id": "25fc1761-ee13-4c8d-b0d3-63cb0b3778ad",
   "metadata": {},
   "outputs": [],
   "source": [
    "def get_rect(center=(0,0), width=15, height=1):\n",
    "    rect = Polygon([[0,0],[width,0],[width,height],[0,height],[0,0]])\n",
    "    rect = af.translate(rect, \n",
    "        center[0]-rect.centroid.xy[0].tolist()[0], \n",
    "        center[1]-rect.centroid.xy[1].tolist()[0])\n",
    "    return rect"
   ]
  },
  {
   "cell_type": "code",
   "execution_count": 58,
   "id": "97bcadd1-92ea-4880-b6e2-b4111e676c67",
   "metadata": {},
   "outputs": [],
   "source": [
    "def rotate(shape, theta):\n",
    "    \"\"\"Rotate the shape about the origin by theta radians.\"\"\"\n",
    "    pts = np.array(shape.exterior.coords)\n",
    "    verts = np.zeros((3, len(pts)))\n",
    "    verts[2,:] = 1\n",
    "    verts[0:2,:] = pts.T\n",
    "    new_verts = tfmat(theta, 0.0, 0.0).dot(verts)\n",
    "    return Polygon(new_verts[0:2,:].T)\n",
    "\n",
    "def tfmat(theta, x, y):\n",
    "    c = np.cos(theta)\n",
    "    s = np.sin(theta)\n",
    "    return np.array([\n",
    "        [c, -s, x],\n",
    "        [s, c, y],\n",
    "        [0.0, 0.0, 1.0]\n",
    "        ], dtype=float)"
   ]
  },
  {
   "cell_type": "code",
   "execution_count": 240,
   "id": "b076aee5-c3dd-4bc2-91c2-8d1f205307ae",
   "metadata": {},
   "outputs": [],
   "source": [
    "class RailPlotter():\n",
    "    AXLIMS=(-10,10,-10,10)\n",
    "    RECT_WIDTH=15\n",
    "    RECT_HEIGHT=1\n",
    "    CIRCLE_RADIUS=1\n",
    "    CIRCLE_NUM_PTS=20\n",
    "    \n",
    "    def __init__(self, fps):\n",
    "        self.fps = fps\n",
    "        \n",
    "        self.fig, self.ax = plt.subplots()\n",
    "        self.ax.set_title('Actuated Rail')\n",
    "        \n",
    "        self.ax.set_xlim(RailPlotter.AXLIMS[0], RailPlotter.AXLIMS[1])\n",
    "        self.ax.set_ylim(RailPlotter.AXLIMS[2], RailPlotter.AXLIMS[3])\n",
    "        self.ax.set_aspect('equal')\n",
    "        \n",
    "        self.rect = get_rect(\n",
    "            width=RailPlotter.RECT_WIDTH, \n",
    "            height=RailPlotter.RECT_HEIGHT)\n",
    "        self.circ = get_circle(\n",
    "            radius=RailPlotter.CIRCLE_RADIUS,\n",
    "            num_points=RailPlotter.CIRCLE_NUM_PTS)\n",
    "        \n",
    "        self.p1, = self.ax.plot([], []) # initialize persistent artists\n",
    "        self.p2, = self.ax.plot([], [])\n",
    "        self.p3 = self.ax.axvline(0)\n",
    "        self.artist_list = []\n",
    "        \n",
    "        self.previous_time = 0\n",
    "        \n",
    "    def update(self, time, theta, x):\n",
    "        if time - self.previous_time >= 1/self.fps: # systemic rounding error :(\n",
    "            self.previous_time = time\n",
    "            self.plot(theta, x)\n",
    "        \n",
    "    def plot(self, theta, x):\n",
    "        \"\"\" Plot the actuated rail. Takes 0-centered rectangle and circle.\n",
    "        \n",
    "        A bit of trickery going on with the matplotlib Artists here. The Artist\n",
    "        objects need to be kept in memory to make a video, so I keep a persistent\n",
    "        handle to the objects as self.p1 and self.p2. Then, I make sure to set the \n",
    "        old objects to be invisible in case I'm watching the output live.\n",
    "        \"\"\"\n",
    "        new_rect = rotate(self.rect, -theta)\n",
    "        new_circ = af.translate(self.circ, x, 1.5)\n",
    "        new_circ = rotate(new_circ, -theta)\n",
    "        \n",
    "        self.p1.set_visible(False)\n",
    "        self.p2.set_visible(False)\n",
    "        self.p3.set_visible(False)\n",
    "        \n",
    "        self.p1, = self.ax.plot(*new_rect.exterior.xy, 'b')\n",
    "        self.p2, = self.ax.plot(*new_circ.exterior.xy, 'r')\n",
    "        self.p3 = self.ax.axvline(x)\n",
    "        self.artist_list.append([self.p1, self.p2, self.p3])\n",
    "        \n",
    "        return self.ax\n",
    "    \n",
    "    def save_video(self, fname='output.mp4'):\n",
    "        ani = animation.ArtistAnimation(\n",
    "            self.fig, \n",
    "            self.artist_list, \n",
    "            interval=1.0/self.fps * 1000, \n",
    "            blit=True,\n",
    "            repeat_delay=0)\n",
    "        \n",
    "        ani.save(fname, dpi=200, writer='ffmpeg')"
   ]
  },
  {
   "cell_type": "code",
   "execution_count": 241,
   "id": "4c860520-bea8-4853-9c4d-2a70f40f0568",
   "metadata": {},
   "outputs": [
    {
     "data": {
      "image/png": "[encoded data removed]",
      "text/plain": [
       "<Figure size 432x288 with 1 Axes>"
      ]
     },
     "metadata": {
      "needs_background": "light"
     },
     "output_type": "display_data"
    }
   ],
   "source": [
    "x = np.zeros((3,1))\n",
    "dt = 0.005\n",
    "g = 9.81\n",
    "A = np.array([\n",
    "    [1, dt, 0],\n",
    "    [0, 1, dt],\n",
    "    [0, 0, 0]])\n",
    "B = np.array([[0],[0],[5/7*g]])\n",
    "\n",
    "duration = 10 # length of video in seconds\n",
    "num_steps = int(duration / dt) # number of simulated steps\n",
    "times = np.linspace(0,duration,num_steps)\n",
    "\n",
    "# Input function (u = sin(theta))\n",
    "input_freq = 2*np.pi / 4 # 1 cycle / 4 seconds\n",
    "input_amp = 0.1\n",
    "us = np.sin(input_freq * times) * input_amp\n",
    "\n",
    "rp = RailPlotter(fps=30)\n",
    "for t, u in zip(times, us):\n",
    "    x = A.dot(x) + B.dot(u)\n",
    "    rp.update(time=t, theta=np.arcsin(u), x=x[0,0])\n",
    "\n",
    "rp.save_video('output_sinusoid.mp4')"
   ]
  },
  {
   "cell_type": "code",
   "execution_count": 242,
   "id": "130afd27-c04c-4f71-bdf6-67d018bae054",
   "metadata": {},
   "outputs": [
    {
     "data": {
      "text/html": [
       "<video src=\"output.mp4\" controls  >\n",
       "      Your browser does not support the <code>video</code> element.\n",
       "    </video>"
      ],
      "text/plain": [
       "<IPython.core.display.Video object>"
      ]
     },
     "execution_count": 242,
     "metadata": {},
     "output_type": "execute_result"
    }
   ],
   "source": [
    "Video(\"output.mp4\")"
   ]
  },
  {
   "cell_type": "code",
   "execution_count": 250,
   "id": "8d1445e2-2d22-48d4-9139-96af51796d0e",
   "metadata": {},
   "outputs": [
    {
     "data": {
      "image/png": "[encoded data removed]",
      "text/plain": [
       "<Figure size 432x288 with 1 Axes>"
      ]
     },
     "metadata": {
      "needs_background": "light"
     },
     "output_type": "display_data"
    }
   ],
   "source": [
    "# Dynamics model\n",
    "import time\n",
    "from IPython import display\n",
    "import matplotlib.animation as animation\n",
    "\n",
    "x = np.zeros((3,1))\n",
    "x_des = 1\n",
    "dt = 0.005\n",
    "g = 9.81\n",
    "A = np.array([\n",
    "    [1, dt, 0],\n",
    "    [0, 1, dt],\n",
    "    [0, 0, 0]])\n",
    "B = np.array([[0],[0],[5/7*g]])\n",
    "\n",
    "# Control gains\n",
    "Kp=0.04\n",
    "Ki=0.005\n",
    "Kd=0.02\n",
    "\n",
    "duration = 10 # length of video in seconds\n",
    "num_steps = int(duration / dt) # number of simulated steps\n",
    "times = np.linspace(0,duration,num_steps)\n",
    "\n",
    "error_queue = np.zeros(int(0.5/dt)) # Two-second FIR queue\n",
    "rp = RailPlotter(fps=30)\n",
    "for t in times:\n",
    "    \n",
    "    # Error queue\n",
    "    for i in range(1, len(error_queue)):\n",
    "        error_queue[i-1] = error_queue[i]\n",
    "    \n",
    "    \n",
    "    e = x[0,0] - x_des\n",
    "    error_queue[-1] = e\n",
    "\n",
    "    # Control law\n",
    "    u = Kp*e + Ki*np.sum(error_queue) + Kd*(error_queue[-1] - error_queue[0])/(len(error_queue)*dt)\n",
    "    u *= -1\n",
    "    u = min(u, 0.2)\n",
    "    u = max(u, -0.2)\n",
    "#     print(u)\n",
    "    # Dynamics   \n",
    "    x = A.dot(x) + B.dot(u)\n",
    "    rp.update(time=t, theta=np.arcsin(u), x=x[0,0])\n",
    "\n",
    "rp.save_video('output_pid.mp4')"
   ]
  },
  {
   "cell_type": "code",
   "execution_count": 251,
   "id": "7d9869e9-a1b1-4ed5-ac0f-afb19015cb4e",
   "metadata": {},
   "outputs": [
    {
     "data": {
      "text/html": [
       "<video src=\"output_pid.mp4\" controls  >\n",
       "      Your browser does not support the <code>video</code> element.\n",
       "    </video>"
      ],
      "text/plain": [
       "<IPython.core.display.Video object>"
      ]
     },
     "execution_count": 251,
     "metadata": {},
     "output_type": "execute_result"
    }
   ],
   "source": [
    "Video('output_pid.mp4')"
   ]
  },
  {
   "cell_type": "code",
   "execution_count": null,
   "id": "80a808a0-e623-443e-b898-efd4fe4ead6f",
   "metadata": {},
   "outputs": [],
   "source": []
  }
 ],
 "metadata": {
  "kernelspec": {
   "display_name": "ROB534",
   "language": "python",
   "name": "rob534"
  },
  "language_info": {
   "codemirror_mode": {
    "name": "ipython",
    "version": 3
   },
   "file_extension": ".py",
   "mimetype": "text/x-python",
   "name": "python",
   "nbconvert_exporter": "python",
   "pygments_lexer": "ipython3",
   "version": "3.9.2"
  }
 },
 "nbformat": 4,
 "nbformat_minor": 5
}
