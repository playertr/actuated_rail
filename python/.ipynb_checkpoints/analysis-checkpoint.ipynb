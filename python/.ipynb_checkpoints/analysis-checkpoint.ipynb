{
 "cells": [
  {
   "cell_type": "markdown",
   "id": "undefined-percentage",
   "metadata": {},
   "source": [
    "## `analysis.ipynb`\n",
    "### Tim Player\n",
    "January 28, 2021\n",
    "\n",
    "This script analyzes several control schemes for an actuated rail."
   ]
  },
  {
   "cell_type": "markdown",
   "id": "employed-knife",
   "metadata": {},
   "source": [
    "## 1. Dynamic Model"
   ]
  },
  {
   "cell_type": "markdown",
   "id": "floppy-auditor",
   "metadata": {},
   "source": [
    "```\n",
    "__________O_____________\n",
    "           /\\\n",
    "```"
   ]
  },
  {
   "cell_type": "markdown",
   "id": "floppy-conversion",
   "metadata": {},
   "source": [
    "We are modeling the \"actuated rail\" system shown above, which is a teeter totter with a ball on it. You can control the angle of the teeter totter.\n",
    "\n",
    "The goal is to balance the ball; that is, to keep it centered at an arbitrary position $x_g \\in (x_{min}, x_{max})$. So, how does the ball move?\n",
    "\n",
    "Consider the force acting along the $x$ dimension when the ramp is declined with an angle $\\theta$. In that case, Newton's Second Law gives\n",
    "$$ mg \\sin \\theta - F_f = m a,$$\n",
    "where $m$ is the ball's mass, $\\theta$ is the angle of the ramp, $F_f$ is the frictional force exerted in the $-\\hat x$ direction, and $g$ is the magic science number $9.8$.\n",
    "\n",
    "We can determine $F_f$ by assuming that the ball is not slipping down the ramp, and considering the torque summation and holonomic constraint. The torque summation is given by\n",
    "$$ \\tau = F_f R = I \\alpha, $$\n",
    "where $R$ is the radius of the ball and $I = \\frac{2}{5} m R^2$ is the ball's moment of inertia. We observe that, because the ball is not slipping (a \"holonomic constraint\"), we can write\n",
    "$$ \\alpha = \\frac{a}{r}. $$\n",
    "\n",
    "Substitution and simplification of several of the above equations gives\n",
    "$$ a = \\frac{5}{7} g \\sin \\theta,$$\n",
    "fully describing the dynamics of this clever little second-order system.\n",
    "\n",
    "But, there's a problem. As engineers, we want to write our systems in the form\n",
    "$$ x_t = A x_{t-1} + B u_t, $$\n",
    "where $x$ is a state vector $A$ is the dynamic transition matrix, $B$ is the control matrix, and $u$ is the control input to the system. \n",
    "\n",
    "We encode the second-order dynamics in the update equation\n",
    "$$\n",
    "\\begin{bmatrix}\n",
    "x \\\\ \\dot{x} \\\\ \\ddot{x}\n",
    "\\end{bmatrix}_t\n",
    "= \n",
    "\\begin{bmatrix}\n",
    "1 &\\Delta t &0 \\\\\n",
    "0 &1 &\\Delta t \\\\\n",
    "0 &0 &0\n",
    "\\end{bmatrix}\n",
    "\\begin{bmatrix}\n",
    "x \\\\ \\dot{x} \\\\ \\ddot{x}\n",
    "\\end{bmatrix}_{t-1}\n",
    "+\n",
    "\\begin{bmatrix}\n",
    "0 \\\\ 0 \\\\ 5/7 g\n",
    "\\end{bmatrix}\n",
    "u_t,\n",
    "$$\n",
    "where we choose the control input at time $t$ to be $u_t = \\sin \\theta$. (Note: we choose this function as our control input so that the $B$ matrix could be constant.)\n"
   ]
  },
  {
   "cell_type": "markdown",
   "id": "pacific-prompt",
   "metadata": {},
   "source": [
    "## To Do:\n",
    "* derive the transfer function of the system above: $G(s) = \\frac{5g}{7s^2}$\n",
    "* review Chapter 9 of Oppenheim's book and derive the closed-loop transfer function\n",
    "* add section: Linear Control with pole placement after reviewing [state space control](https://ctms.engin.umich.edu/CTMS/index.php?example=Introduction&section=ControlStateSpace)\n",
    "* add section: PID control with stability analysis after review Ch. 11 of Oppenheim\n",
    "* add section: filtering theory for observer\n",
    "* use the phase-angle phase margin analysis from Ch.11, coupled with info from the servo datasheet, to remark on update frequency\n",
    "* optimal control?\n",
    "* RL?"
   ]
  },
  {
   "cell_type": "code",
   "execution_count": null,
   "id": "quantitative-solution",
   "metadata": {},
   "outputs": [],
   "source": []
  }
 ],
 "metadata": {
  "kernelspec": {
   "display_name": "CS534",
   "language": "python",
   "name": "cs534"
  },
  "language_info": {
   "codemirror_mode": {
    "name": "ipython",
    "version": 3
   },
   "file_extension": ".py",
   "mimetype": "text/x-python",
   "name": "python",
   "nbconvert_exporter": "python",
   "pygments_lexer": "ipython3",
   "version": "3.8.5"
  }
 },
 "nbformat": 4,
 "nbformat_minor": 5
}
